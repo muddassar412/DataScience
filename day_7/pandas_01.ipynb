{
 "cells": [
  {
   "attachments": {},
   "cell_type": "markdown",
   "metadata": {},
   "source": [
    "# Free data Sources\n",
    "1. [kaggle.com](https://www.kaggle.com/)\n",
    "2. github\n",
    "3. google datasearch\n",
    "4. faostats.com (1961 - 2020)\n",
    "5. website {wikipedia, tweter} (scraping)\n",
    "6. stats of any country (bearu of stats)\n",
    "7. Nadra DB \n",
    "8. crime detection (DNA / forensics / fingure print detection)\n",
    "9. Bussines Analytics (price of USD / stock exchange)\n",
    "10. University DB\n",
    "11. Research Database (personal)---> publish research database (available)\n",
    "    1.  published research DB ---> analysis ----> publish our research\n"
   ]
  },
  {
   "attachments": {},
   "cell_type": "markdown",
   "metadata": {},
   "source": [
    "Data -----> 1. python ---> viz \n",
    "                      ---> Analysis EDA (Exploratory Data analysis)\n",
    "                      ---> reports\n",
    "                      ---> ML/DL\n"
   ]
  },
  {
   "attachments": {},
   "cell_type": "markdown",
   "metadata": {},
   "source": [
    "### we can use secondary data using pandas lib"
   ]
  },
  {
   "attachments": {},
   "cell_type": "markdown",
   "metadata": {},
   "source": [
    "### Seaborn (dataset)\n",
    "### scikit-learn(dataset)\n",
    "\n",
    "we use these datasets for initial data analysis"
   ]
  }
 ],
 "metadata": {
  "language_info": {
   "name": "python"
  },
  "orig_nbformat": 4
 },
 "nbformat": 4,
 "nbformat_minor": 2
}
